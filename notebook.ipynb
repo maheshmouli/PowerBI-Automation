{
 "cells": [
  {
   "cell_type": "code",
   "execution_count": 1,
   "metadata": {},
   "outputs": [],
   "source": [
    "import pandas as pd"
   ]
  },
  {
   "cell_type": "code",
   "execution_count": 5,
   "metadata": {},
   "outputs": [],
   "source": [
    "data = pd.read_csv(\"apartment_data.csv\")"
   ]
  },
  {
   "cell_type": "code",
   "execution_count": 6,
   "metadata": {},
   "outputs": [
    {
     "data": {
      "text/html": [
       "<div>\n",
       "<style scoped>\n",
       "    .dataframe tbody tr th:only-of-type {\n",
       "        vertical-align: middle;\n",
       "    }\n",
       "\n",
       "    .dataframe tbody tr th {\n",
       "        vertical-align: top;\n",
       "    }\n",
       "\n",
       "    .dataframe thead th {\n",
       "        text-align: right;\n",
       "    }\n",
       "</style>\n",
       "<table border=\"1\" class=\"dataframe\">\n",
       "  <thead>\n",
       "    <tr style=\"text-align: right;\">\n",
       "      <th></th>\n",
       "      <th>TOWER</th>\n",
       "      <th>FLOOR</th>\n",
       "      <th>APARTMENT NO.</th>\n",
       "      <th>AREA</th>\n",
       "      <th>FACING</th>\n",
       "      <th>CORNER</th>\n",
       "      <th>TYPE</th>\n",
       "    </tr>\n",
       "  </thead>\n",
       "  <tbody>\n",
       "    <tr>\n",
       "      <th>0</th>\n",
       "      <td>A</td>\n",
       "      <td>1</td>\n",
       "      <td>101</td>\n",
       "      <td>1938</td>\n",
       "      <td>East</td>\n",
       "      <td>NO</td>\n",
       "      <td>3 BHK</td>\n",
       "    </tr>\n",
       "    <tr>\n",
       "      <th>1</th>\n",
       "      <td>A</td>\n",
       "      <td>1</td>\n",
       "      <td>102</td>\n",
       "      <td>2751</td>\n",
       "      <td>West</td>\n",
       "      <td>YES</td>\n",
       "      <td>4 BHK</td>\n",
       "    </tr>\n",
       "    <tr>\n",
       "      <th>2</th>\n",
       "      <td>A</td>\n",
       "      <td>1</td>\n",
       "      <td>103</td>\n",
       "      <td>2751</td>\n",
       "      <td>West</td>\n",
       "      <td>YES</td>\n",
       "      <td>4 BHK</td>\n",
       "    </tr>\n",
       "    <tr>\n",
       "      <th>3</th>\n",
       "      <td>A</td>\n",
       "      <td>1</td>\n",
       "      <td>104</td>\n",
       "      <td>1733</td>\n",
       "      <td>North</td>\n",
       "      <td>NO</td>\n",
       "      <td>3 BHK</td>\n",
       "    </tr>\n",
       "    <tr>\n",
       "      <th>4</th>\n",
       "      <td>A</td>\n",
       "      <td>1</td>\n",
       "      <td>105</td>\n",
       "      <td>1733</td>\n",
       "      <td>North</td>\n",
       "      <td>NO</td>\n",
       "      <td>3 BHK</td>\n",
       "    </tr>\n",
       "  </tbody>\n",
       "</table>\n",
       "</div>"
      ],
      "text/plain": [
       "  TOWER  FLOOR  APARTMENT NO.  AREA FACING CORNER   TYPE\n",
       "0     A      1            101  1938   East     NO  3 BHK\n",
       "1     A      1            102  2751   West    YES  4 BHK\n",
       "2     A      1            103  2751   West    YES  4 BHK\n",
       "3     A      1            104  1733  North     NO  3 BHK\n",
       "4     A      1            105  1733  North     NO  3 BHK"
      ]
     },
     "execution_count": 6,
     "metadata": {},
     "output_type": "execute_result"
    }
   ],
   "source": [
    "data.head()"
   ]
  },
  {
   "cell_type": "code",
   "execution_count": 12,
   "metadata": {},
   "outputs": [
    {
     "data": {
      "text/plain": [
       "array(['3 BHK', '4 BHK'], dtype=object)"
      ]
     },
     "execution_count": 12,
     "metadata": {},
     "output_type": "execute_result"
    }
   ],
   "source": [
    "data['TYPE'].unique()"
   ]
  },
  {
   "cell_type": "code",
   "execution_count": 1,
   "metadata": {},
   "outputs": [],
   "source": [
    "from handlers.data_processor import DataProcessor"
   ]
  },
  {
   "cell_type": "code",
   "execution_count": 2,
   "metadata": {},
   "outputs": [
    {
     "name": "stdout",
     "output_type": "stream",
     "text": [
      "Processed Data:\n",
      "  TOWER  FLOOR  APARTMENT NO.  AREA FACING CORNER   TYPE  APARTMENT No.  \\\n",
      "0     A      1            101  1938   EAST     NO  3 BHK            101   \n",
      "1     A      1            102  2751   WEST    YES  4 BHK            102   \n",
      "2     A      1            103  2751   WEST    YES  4 BHK            103   \n",
      "3     A      1            104  1733  NORTH     NO  3 BHK            104   \n",
      "4     A      1            105  1733  NORTH     NO  3 BHK            105   \n",
      "\n",
      "  APARTMENT_TYPE  \n",
      "0       Standard  \n",
      "1         Luxury  \n",
      "2         Luxury  \n",
      "3       Standard  \n",
      "4       Standard  \n"
     ]
    }
   ],
   "source": [
    "file_path = 'apartment_data.csv' \n",
    "try:\n",
    "    processed_data = DataProcessor.validate_and_transform(file_path)\n",
    "    print(\"Processed Data:\")\n",
    "    print(processed_data.head())  # Display the first few rows\n",
    "except ValueError as e:\n",
    "    print(f\"Error during processing: {e}\")"
   ]
  },
  {
   "cell_type": "code",
   "execution_count": null,
   "metadata": {},
   "outputs": [],
   "source": []
  }
 ],
 "metadata": {
  "kernelspec": {
   "display_name": "powerbienv",
   "language": "python",
   "name": "python3"
  },
  "language_info": {
   "codemirror_mode": {
    "name": "ipython",
    "version": 3
   },
   "file_extension": ".py",
   "mimetype": "text/x-python",
   "name": "python",
   "nbconvert_exporter": "python",
   "pygments_lexer": "ipython3",
   "version": "3.11.10"
  }
 },
 "nbformat": 4,
 "nbformat_minor": 2
}
